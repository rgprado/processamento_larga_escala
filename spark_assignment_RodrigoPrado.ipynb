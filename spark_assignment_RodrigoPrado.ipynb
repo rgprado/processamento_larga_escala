{
  "cells": [
    {
      "cell_type": "markdown",
      "metadata": {
        "id": "view-in-github",
        "colab_type": "text"
      },
      "source": [
        "<a href=\"https://colab.research.google.com/github/rgprado/processamento_larga_escala/blob/main/spark_assignment_RodrigoPrado.ipynb\" target=\"_parent\"><img src=\"https://colab.research.google.com/assets/colab-badge.svg\" alt=\"Open In Colab\"/></a>"
      ]
    },
    {
      "cell_type": "markdown",
      "metadata": {
        "tags": [],
        "id": "_3RyvU5D0LeQ"
      },
      "source": [
        "## Sobre os dados\n",
        "\n",
        "O arquivo CSV contém eventos 'click' ou 'view' no tempo, de usuários em anúncios de determinadas campanhas.\n",
        "\n",
        "**Descrição das colunas:**  \n",
        "timestamp,user_id,action,adId,campaignId \n",
        "\n",
        "**Amostra:**  \n",
        "2016-09-21 22:11:00,7c74953c-66cc-48bd-9d02-a02bf039cf3f,click,adId_09,campaignId_01  \n",
        "2016-06-25 18:29:00,676a083e-2f8e-4ff2-9ec2-270f7f9d6033,view,adId_09,campaignId_02  \n",
        "2016-02-14 19:03:00,77158997-0dfa-48b7-9149-973dc151ef8d,click,adId_02,campaignId_02  \n",
        "2016-03-26 06:27:00,78aa2467-b502-413b-94e9-04ec8210bd13,click,adId_07,campaignId_03\n",
        "\n",
        "**Nome do arquivo CSV:**  \n",
        "data/ad_action.csv\n",
        "\n",
        "## Sobre as questões\n",
        "\n",
        "As questões devem ser respondidas usando alguma API da tecnologia Spark, exceto a API \"Pandas API on Spark\".\n",
        "\n",
        "Quando utilizar uma action do Spark tenha cuidado para evitar estouro de memória, sempre imaginado que vai executar o código com uma grande massa de dados.\n",
        "\n",
        "Mesmo que não consiga terminar alguma questão, favor enviar, porque parte do código pode valer alguma pontuação."
      ]
    },
    {
      "cell_type": "code",
      "source": [
        "!wget -q https://downloads.apache.org/spark/spark-3.0.1/spark-3.0.1-bin-hadoop2.7.tgz\n",
        "!tar xf spark-3.0.1-bin-hadoop2.7.tgz\n",
        "!pip install -q findspark\n",
        "!pip install pyspark"
      ],
      "metadata": {
        "colab": {
          "base_uri": "https://localhost:8080/"
        },
        "id": "1_NJ5FJi1cGX",
        "outputId": "2c43f64f-8025-43ab-d986-ff5699af576e"
      },
      "execution_count": 1,
      "outputs": [
        {
          "output_type": "stream",
          "name": "stdout",
          "text": [
            "tar: spark-3.0.1-bin-hadoop2.7.tgz: Cannot open: No such file or directory\n",
            "tar: Error is not recoverable: exiting now\n",
            "Looking in indexes: https://pypi.org/simple, https://us-python.pkg.dev/colab-wheels/public/simple/\n",
            "Requirement already satisfied: pyspark in /usr/local/lib/python3.9/dist-packages (3.3.2)\n",
            "Requirement already satisfied: py4j==0.10.9.5 in /usr/local/lib/python3.9/dist-packages (from pyspark) (0.10.9.5)\n"
          ]
        }
      ]
    },
    {
      "cell_type": "code",
      "execution_count": 2,
      "metadata": {
        "id": "0UXOUJ6z0LeT"
      },
      "outputs": [],
      "source": [
        "import os\n",
        "\n",
        "os.environ['PYSPARK_SUBMIT_ARGS'] = '\\\n",
        "    --driver-memory 2G \\\n",
        "    --executor-memory 2G \\\n",
        "    pyspark-shell'\n",
        "\n",
        "from pyspark import SparkConf, SparkContext\n",
        "from pyspark.sql import SparkSession"
      ]
    },
    {
      "cell_type": "code",
      "execution_count": 3,
      "metadata": {
        "id": "1-tr5W_a0LeU"
      },
      "outputs": [],
      "source": [
        "# Para quem usar Spark com Map-Reduce\n",
        "\n",
        "# conf = SparkConf().setMaster(\"local[*]\")\n",
        "# sc = SparkContext.getOrCreate(conf=conf)\n",
        "# data_sc = sc.textFile('ad_action.csv')\n",
        "# data_sc.take(5)"
      ]
    },
    {
      "cell_type": "code",
      "source": [
        "from pyspark.sql.functions import to_timestamp\n",
        "from pyspark.sql.functions import col, desc, asc, lag\n",
        "from pyspark.sql.window import Window"
      ],
      "metadata": {
        "id": "8VrVMChmXRAC"
      },
      "execution_count": 4,
      "outputs": []
    },
    {
      "cell_type": "code",
      "execution_count": 5,
      "metadata": {
        "id": "4muLMDoq0LeV",
        "outputId": "25e583ee-bf18-4997-bf81-972f9afcf576",
        "colab": {
          "base_uri": "https://localhost:8080/"
        }
      },
      "outputs": [
        {
          "output_type": "stream",
          "name": "stdout",
          "text": [
            "root\n",
            " |-- timestamp: timestamp (nullable = true)\n",
            " |-- user_id: string (nullable = true)\n",
            " |-- action: string (nullable = true)\n",
            " |-- adId: string (nullable = true)\n",
            " |-- campaignId: string (nullable = true)\n",
            "\n"
          ]
        }
      ],
      "source": [
        "# Para quem usar Spark SQL\n",
        "\n",
        "spark = SparkSession.builder\\\n",
        "    .master(\"local[*]\")\\\n",
        "    .getOrCreate()\n",
        "data_spark = spark.read.csv('ad_action.csv', header=False, inferSchema=True)\n",
        "data_spark = data_spark.withColumnRenamed('_c0', 'timestamp')\n",
        "data_spark = data_spark.withColumnRenamed('_c1', 'user_id')\n",
        "data_spark = data_spark.withColumnRenamed('_c2', 'action')\n",
        "data_spark = data_spark.withColumnRenamed('_c3', 'adId')\n",
        "data_spark = data_spark.withColumnRenamed('_c4', 'campaignId')\n",
        "data_spark = data_spark.withColumn('timestamp', to_timestamp('timestamp'))\n",
        "data_spark.printSchema()"
      ]
    },
    {
      "cell_type": "code",
      "source": [
        "SparkSession.getActiveSession()"
      ],
      "metadata": {
        "colab": {
          "base_uri": "https://localhost:8080/",
          "height": 222
        },
        "id": "GP_LXMAMl-mk",
        "outputId": "c03e6486-ac3a-46e2-c324-18a1b15006a0"
      },
      "execution_count": 6,
      "outputs": [
        {
          "output_type": "execute_result",
          "data": {
            "text/plain": [
              "<pyspark.sql.session.SparkSession at 0x7fab2052bbb0>"
            ],
            "text/html": [
              "\n",
              "            <div>\n",
              "                <p><b>SparkSession - in-memory</b></p>\n",
              "                \n",
              "        <div>\n",
              "            <p><b>SparkContext</b></p>\n",
              "\n",
              "            <p><a href=\"http://73d8fc6f8f33:4040\">Spark UI</a></p>\n",
              "\n",
              "            <dl>\n",
              "              <dt>Version</dt>\n",
              "                <dd><code>v3.3.2</code></dd>\n",
              "              <dt>Master</dt>\n",
              "                <dd><code>local[*]</code></dd>\n",
              "              <dt>AppName</dt>\n",
              "                <dd><code>pyspark-shell</code></dd>\n",
              "            </dl>\n",
              "        </div>\n",
              "        \n",
              "            </div>\n",
              "        "
            ]
          },
          "metadata": {},
          "execution_count": 6
        }
      ]
    },
    {
      "cell_type": "code",
      "execution_count": 7,
      "metadata": {
        "id": "PxTp8pMF0LeW",
        "outputId": "ac5e6d7f-2c38-4cfa-afc4-f0a9a9a34f49",
        "colab": {
          "base_uri": "https://localhost:8080/"
        }
      },
      "outputs": [
        {
          "output_type": "stream",
          "name": "stdout",
          "text": [
            "+-------------------+--------------------+------+-------+-------------+\n",
            "|          timestamp|             user_id|action|   adId|   campaignId|\n",
            "+-------------------+--------------------+------+-------+-------------+\n",
            "|2016-09-21 22:11:00|7c74953c-66cc-48b...| click|adId_09|campaignId_01|\n",
            "|2016-06-25 18:29:00|676a083e-2f8e-4ff...|  view|adId_09|campaignId_02|\n",
            "|2016-02-14 19:03:00|77158997-0dfa-48b...| click|adId_02|campaignId_02|\n",
            "|2016-03-26 06:27:00|78aa2467-b502-413...| click|adId_07|campaignId_03|\n",
            "|2016-01-02 04:57:00|fef9a98c-d73e-48e...|  view|adId_02|campaignId_02|\n",
            "+-------------------+--------------------+------+-------+-------------+\n",
            "only showing top 5 rows\n",
            "\n"
          ]
        }
      ],
      "source": [
        "data_spark.show(5)"
      ]
    },
    {
      "cell_type": "code",
      "execution_count": 8,
      "metadata": {
        "id": "DwtytrLb0LeX"
      },
      "outputs": [],
      "source": [
        "# Descomente para desligar clusters\n",
        "\n",
        "#sc.stop()\n",
        "# spark.stop()"
      ]
    },
    {
      "cell_type": "markdown",
      "metadata": {
        "id": "qvxk64GR0LeY"
      },
      "source": [
        "## 1) Quais são as top 3 campanhas que geraram mais eventos? Ordene pela quantidade de eventos (2,5 pontos)"
      ]
    },
    {
      "cell_type": "code",
      "execution_count": 9,
      "metadata": {
        "id": "gFuPZetQ0LeY",
        "colab": {
          "base_uri": "https://localhost:8080/"
        },
        "outputId": "1b5ed86e-95b3-4ce5-a6b0-cdcaf57d4550"
      },
      "outputs": [
        {
          "output_type": "stream",
          "name": "stdout",
          "text": [
            "Top 3 campanhas com mais enventos:\n",
            "campaignId_02\n",
            "campaignId_03\n",
            "campaignId_01\n",
            "CPU times: user 26.5 ms, sys: 7.95 ms, total: 34.4 ms\n",
            "Wall time: 3.22 s\n"
          ]
        }
      ],
      "source": [
        "%%time\n",
        "most_popular_cp = data_spark.groupby('campaignId')\\\n",
        "    .count()\\\n",
        "    .orderBy(desc('count'))\\\n",
        "    .take(3)\n",
        "\n",
        "print('Top 3 campanhas com mais enventos:')\n",
        "for i, b in enumerate(most_popular_cp):\n",
        "  print(most_popular_cp[i]['campaignId'])"
      ]
    },
    {
      "cell_type": "markdown",
      "metadata": {
        "id": "FfilyTal0LeZ"
      },
      "source": [
        "## 2) Qual campanha teve mais clicks? (2,5 pontos)"
      ]
    },
    {
      "cell_type": "code",
      "source": [
        "data_spark.groupBy('campaignId', 'action')\\\n",
        "    .count()\\\n",
        "    .orderBy(desc('count'))\\\n",
        "    .where(col(\"action\") == 'click')\\\n",
        "    .show()"
      ],
      "metadata": {
        "colab": {
          "base_uri": "https://localhost:8080/"
        },
        "id": "trCfwSc3Eyib",
        "outputId": "4450565a-23be-4cd1-e749-d9221e3b1439"
      },
      "execution_count": 10,
      "outputs": [
        {
          "output_type": "stream",
          "name": "stdout",
          "text": [
            "+-------------+------+-----+\n",
            "|   campaignId|action|count|\n",
            "+-------------+------+-----+\n",
            "|campaignId_02| click|63983|\n",
            "|campaignId_03| click|60947|\n",
            "|campaignId_01| click|53375|\n",
            "+-------------+------+-----+\n",
            "\n"
          ]
        }
      ]
    },
    {
      "cell_type": "code",
      "source": [
        "most_click_campain = data_spark.groupBy('campaignId', 'action')\\\n",
        "    .count()\\\n",
        "    .orderBy(desc('count'))\\\n",
        "    .where(col(\"action\") == 'click')\\\n",
        "    .take(1)\n",
        "\n",
        "print('A campanha \"{}\" foi a mais clicada com {} clicks'.format(most_click_campain[0]['campaignId'], most_click_campain[0]['count']))"
      ],
      "metadata": {
        "colab": {
          "base_uri": "https://localhost:8080/"
        },
        "id": "2rx1XilNsADm",
        "outputId": "2ffb24f2-92d2-4aa0-9bb2-ce71a821b290"
      },
      "execution_count": 11,
      "outputs": [
        {
          "output_type": "stream",
          "name": "stdout",
          "text": [
            "A campanha \"campaignId_02\" foi a mais clicada com 63983 clicks\n"
          ]
        }
      ]
    },
    {
      "cell_type": "markdown",
      "metadata": {
        "id": "yrDwPflH0Leb"
      },
      "source": [
        "## 3) Dos 12 meses do ano, qual teve o maior total de eventos acumulado ao longo dos anos? (2,5 pontos)"
      ]
    },
    {
      "cell_type": "code",
      "source": [
        "from pyspark.sql.functions import *\n",
        "data_spark.select(date_format(col(\"timestamp\"),'MMMM').alias('month'), 'action')\\\n",
        "  .groupby('month')\\\n",
        "  .count()\\\n",
        "  .orderBy(desc('count'))\\\n",
        "  .show()"
      ],
      "metadata": {
        "colab": {
          "base_uri": "https://localhost:8080/"
        },
        "id": "smYPdbfsP3Xb",
        "outputId": "2a5352e1-f5e4-40b1-bf5d-e89fff408522"
      },
      "execution_count": 12,
      "outputs": [
        {
          "output_type": "stream",
          "name": "stdout",
          "text": [
            "+---------+-----+\n",
            "|    month|count|\n",
            "+---------+-----+\n",
            "|  January|25800|\n",
            "|    March|21377|\n",
            "|  October|21363|\n",
            "|   August|21362|\n",
            "|      May|21224|\n",
            "|     July|21183|\n",
            "|     June|20657|\n",
            "| November|20646|\n",
            "|September|20627|\n",
            "|    April|20558|\n",
            "| December|20297|\n",
            "| February|19619|\n",
            "+---------+-----+\n",
            "\n"
          ]
        }
      ]
    },
    {
      "cell_type": "code",
      "source": [
        "most_event_month = data_spark.select(date_format(col(\"timestamp\"),'MMMM').alias('month'), 'action')\\\n",
        "  .groupby('month')\\\n",
        "  .count()\\\n",
        "  .orderBy(desc('count'))\\\n",
        "  .take(1)\n",
        "print('Mês que teve o maior total de eventos acumulado foi \"{}\" com o total de {} eventos.'.format(most_event_month[0]['month'], most_event_month[0]['count']))"
      ],
      "metadata": {
        "colab": {
          "base_uri": "https://localhost:8080/"
        },
        "id": "SDRPMqmjQ8LZ",
        "outputId": "4bbf2f0d-df23-4400-d676-40d26b821a85"
      },
      "execution_count": 13,
      "outputs": [
        {
          "output_type": "stream",
          "name": "stdout",
          "text": [
            "Mês que teve o maior total de eventos acumulado foi \"January\" com o total de 25800 eventos.\n"
          ]
        }
      ]
    },
    {
      "cell_type": "code",
      "source": [
        "most_event_month"
      ],
      "metadata": {
        "colab": {
          "base_uri": "https://localhost:8080/"
        },
        "id": "DMMKIUCESoYJ",
        "outputId": "2b60d26f-611e-40cb-c84b-7c4c59018efc"
      },
      "execution_count": 14,
      "outputs": [
        {
          "output_type": "execute_result",
          "data": {
            "text/plain": [
              "[Row(month='January', count=25800)]"
            ]
          },
          "metadata": {},
          "execution_count": 14
        }
      ]
    },
    {
      "cell_type": "markdown",
      "metadata": {
        "id": "xMNs8Tqe0Lec"
      },
      "source": [
        "## 4) Nas situações onde existe um evento de view seguido de um evento de click criados pelo mesmo usuário no mesmo anúncio e campanha, quais são os 5 pares de anúncio e campanha com menores médias de tempo entre os dois eventos (2,5 pontos)"
      ]
    },
    {
      "cell_type": "code",
      "execution_count": 56,
      "metadata": {
        "id": "hudN_B3a0Led",
        "colab": {
          "base_uri": "https://localhost:8080/"
        },
        "outputId": "685a49a7-99bd-4092-a515-47393945be5a"
      },
      "outputs": [
        {
          "output_type": "stream",
          "name": "stdout",
          "text": [
            "+-------------------+--------------------+------+-------+-------------+-------------------+--------------------+-----------+---------+---------------+\n",
            "|          timestamp|             user_id|action|   adId|   campaignId|     timestamp_next|        user_id_next|action_next|adId_next|campaignId_next|\n",
            "+-------------------+--------------------+------+-------+-------------+-------------------+--------------------+-----------+---------+---------------+\n",
            "|2016-01-01 00:00:00|c577e717-1be3-4e6...| click|adId_06|campaignId_02|2016-01-01 00:07:00|0fb092f2-6721-4dd...|      click|  adId_10|  campaignId_03|\n",
            "|2016-01-01 00:07:00|0fb092f2-6721-4dd...| click|adId_10|campaignId_03|2016-01-01 00:07:00|4fde5dfa-ccde-4c2...|       view|  adId_07|  campaignId_02|\n",
            "|2016-01-01 00:07:00|4fde5dfa-ccde-4c2...|  view|adId_07|campaignId_02|2016-01-01 00:11:00|2dbd9392-768e-4ba...|      click|  adId_03|  campaignId_03|\n",
            "|2016-01-01 00:11:00|2dbd9392-768e-4ba...| click|adId_03|campaignId_03|2016-01-01 00:12:00|cd3e0222-0796-450...|      click|  adId_09|  campaignId_01|\n",
            "|2016-01-01 00:12:00|cd3e0222-0796-450...| click|adId_09|campaignId_01|2016-01-01 00:13:00|909401e9-55ef-4dd...|      click|  adId_02|  campaignId_01|\n",
            "|2016-01-01 00:13:00|909401e9-55ef-4dd...| click|adId_02|campaignId_01|2016-01-01 00:14:00|c30d66d6-fd02-495...|      click|  adId_02|  campaignId_01|\n",
            "|2016-01-01 00:14:00|c30d66d6-fd02-495...| click|adId_02|campaignId_01|2016-01-01 00:14:00|c425c8a5-8f22-471...|      click|  adId_07|  campaignId_03|\n",
            "|2016-01-01 00:14:00|c425c8a5-8f22-471...| click|adId_07|campaignId_03|2016-01-01 00:15:00|fd128de0-f550-4e0...|      click|  adId_06|  campaignId_01|\n",
            "|2016-01-01 00:15:00|fd128de0-f550-4e0...| click|adId_06|campaignId_01|2016-01-01 00:15:00|8ad22171-26e4-4c1...|      click|  adId_04|  campaignId_02|\n",
            "|2016-01-01 00:15:00|8ad22171-26e4-4c1...| click|adId_04|campaignId_02|2016-01-01 00:15:00|218dc6e2-1621-4b4...|       view|  adId_04|  campaignId_01|\n",
            "|2016-01-01 00:15:00|218dc6e2-1621-4b4...|  view|adId_04|campaignId_01|2016-01-01 00:16:00|cba95207-3025-452...|      click|  adId_04|  campaignId_03|\n",
            "|2016-01-01 00:16:00|cba95207-3025-452...| click|adId_04|campaignId_03|2016-01-01 00:16:00|b50bd752-f301-4e9...|      click|  adId_02|  campaignId_03|\n",
            "|2016-01-01 00:16:00|b50bd752-f301-4e9...| click|adId_02|campaignId_03|2016-01-01 00:17:00|6d1d89ee-9326-45f...|      click|  adId_10|  campaignId_03|\n",
            "|2016-01-01 00:17:00|6d1d89ee-9326-45f...| click|adId_10|campaignId_03|2016-01-01 00:17:00|a35e7a5b-8551-4dd...|      click|  adId_10|  campaignId_01|\n",
            "|2016-01-01 00:17:00|a35e7a5b-8551-4dd...| click|adId_10|campaignId_01|2016-01-01 00:18:00|b15b0b5b-69ab-495...|      click|  adId_06|  campaignId_02|\n",
            "|2016-01-01 00:18:00|b15b0b5b-69ab-495...| click|adId_06|campaignId_02|2016-01-01 00:18:00|19a03c9c-2500-420...|      click|  adId_10|  campaignId_01|\n",
            "|2016-01-01 00:18:00|19a03c9c-2500-420...| click|adId_10|campaignId_01|2016-01-01 00:20:00|1994f3e6-591b-42a...|       view|  adId_04|  campaignId_02|\n",
            "|2016-01-01 00:20:00|1994f3e6-591b-42a...|  view|adId_04|campaignId_02|2016-01-01 00:20:00|61656a77-0931-4e9...|      click|  adId_06|  campaignId_02|\n",
            "|2016-01-01 00:20:00|61656a77-0931-4e9...| click|adId_06|campaignId_02|2016-01-01 00:21:00|34b4c94f-a78c-42c...|      click|  adId_09|  campaignId_02|\n",
            "|2016-01-01 00:21:00|34b4c94f-a78c-42c...| click|adId_09|campaignId_02|2016-01-01 00:21:00|b41ce28a-f678-476...|      click|  adId_04|  campaignId_01|\n",
            "+-------------------+--------------------+------+-------+-------------+-------------------+--------------------+-----------+---------+---------------+\n",
            "only showing top 20 rows\n",
            "\n"
          ]
        }
      ],
      "source": [
        "# Fazendo shift do timestamp, user_id, action, adID e campaignId\n",
        "w = Window().partitionBy().orderBy(col(\"timestamp\"))\n",
        "df_spark = data_spark.select(\"*\", lag(\"timestamp\",-1).over(w).alias(\"timestamp_next\"), \\\n",
        "                             lag(\"user_id\",-1).over(w).alias(\"user_id_next\"),\\\n",
        "                             lag(\"action\",-1).over(w).alias(\"action_next\"),\\\n",
        "                             lag(\"adId\",-1).over(w).alias(\"adId_next\"),\\\n",
        "                             lag(\"campaignId\",-1).over(w).alias(\"campaignId_next\")\\\n",
        "                             )\n",
        "\n",
        "df_spark.show()"
      ]
    },
    {
      "cell_type": "code",
      "source": [
        "# Fazendo filtro das linhas que correspondem aos critérios solicitados\n",
        "# um evento de view seguido de um evento de click criados pelo mesmo usuário no mesmo anúncio e campanha\n",
        "df_pares = df_spark.filter(\n",
        "    (col('user_id') == col('user_id_next')) &\n",
        "    (col('action') == 'view') & (col('action_next') == 'click') &\n",
        "    (col('adId') == col('adId_next')) &\n",
        "    (col('campaignId') == col('campaignId_next'))\n",
        ")\n",
        "\n",
        "df_pares.printSchema()\n",
        "df_pares.show()"
      ],
      "metadata": {
        "colab": {
          "base_uri": "https://localhost:8080/"
        },
        "id": "2RXDW1-yjSnj",
        "outputId": "30e0056e-70c5-4236-92a1-aa36d3c8850b"
      },
      "execution_count": 67,
      "outputs": [
        {
          "output_type": "stream",
          "name": "stdout",
          "text": [
            "root\n",
            " |-- timestamp: timestamp (nullable = true)\n",
            " |-- user_id: string (nullable = true)\n",
            " |-- action: string (nullable = true)\n",
            " |-- adId: string (nullable = true)\n",
            " |-- campaignId: string (nullable = true)\n",
            " |-- timestamp_next: timestamp (nullable = true)\n",
            " |-- user_id_next: string (nullable = true)\n",
            " |-- action_next: string (nullable = true)\n",
            " |-- adId_next: string (nullable = true)\n",
            " |-- campaignId_next: string (nullable = true)\n",
            "\n",
            "+-------------------+--------------------+------+-------+-------------+-------------------+--------------------+-----------+---------+---------------+\n",
            "|          timestamp|             user_id|action|   adId|   campaignId|     timestamp_next|        user_id_next|action_next|adId_next|campaignId_next|\n",
            "+-------------------+--------------------+------+-------+-------------+-------------------+--------------------+-----------+---------+---------------+\n",
            "|2016-01-12 07:21:00|796ea1b7-7b9c-4e0...|  view|adId_02|campaignId_01|2016-01-12 07:32:00|796ea1b7-7b9c-4e0...|      click|  adId_02|  campaignId_01|\n",
            "|2016-01-17 10:06:00|1d625585-afe1-44e...|  view|adId_04|campaignId_02|2016-01-17 10:06:00|1d625585-afe1-44e...|      click|  adId_04|  campaignId_02|\n",
            "|2016-01-20 20:58:00|5b5c2595-2af7-44c...|  view|adId_06|campaignId_01|2016-01-20 20:58:00|5b5c2595-2af7-44c...|      click|  adId_06|  campaignId_01|\n",
            "|2016-02-02 20:45:00|33a9fa72-3c64-4da...|  view|adId_03|campaignId_02|2016-02-02 20:46:00|33a9fa72-3c64-4da...|      click|  adId_03|  campaignId_02|\n",
            "|2016-02-07 09:29:00|2885a1e9-8f4b-450...|  view|adId_05|campaignId_01|2016-02-07 09:29:00|2885a1e9-8f4b-450...|      click|  adId_05|  campaignId_01|\n",
            "|2016-02-09 18:31:00|f821985e-26d7-493...|  view|adId_06|campaignId_02|2016-02-09 18:32:00|f821985e-26d7-493...|      click|  adId_06|  campaignId_02|\n",
            "|2016-02-14 21:25:00|e3e6ab8c-499a-463...|  view|adId_01|campaignId_01|2016-02-14 21:25:00|e3e6ab8c-499a-463...|      click|  adId_01|  campaignId_01|\n",
            "|2016-02-19 09:32:00|96f0242d-b5fb-47d...|  view|adId_09|campaignId_01|2016-02-19 09:32:00|96f0242d-b5fb-47d...|      click|  adId_09|  campaignId_01|\n",
            "|2016-03-02 19:52:00|b929312a-4f8a-4d2...|  view|adId_04|campaignId_01|2016-03-02 19:54:00|b929312a-4f8a-4d2...|      click|  adId_04|  campaignId_01|\n",
            "|2016-03-20 07:28:00|163b138f-9e1e-415...|  view|adId_08|campaignId_02|2016-03-20 07:37:00|163b138f-9e1e-415...|      click|  adId_08|  campaignId_02|\n",
            "|2016-03-21 20:01:00|87a1fd00-9a73-4c3...|  view|adId_10|campaignId_01|2016-03-21 20:02:00|87a1fd00-9a73-4c3...|      click|  adId_10|  campaignId_01|\n",
            "|2016-03-21 20:41:00|92a88ab4-613a-46f...|  view|adId_03|campaignId_02|2016-03-21 20:43:00|92a88ab4-613a-46f...|      click|  adId_03|  campaignId_02|\n",
            "|2016-03-23 19:33:00|db6a068f-18ee-4fa...|  view|adId_01|campaignId_01|2016-03-23 19:35:00|db6a068f-18ee-4fa...|      click|  adId_01|  campaignId_01|\n",
            "|2016-03-31 08:52:00|45366664-c3c1-45b...|  view|adId_02|campaignId_02|2016-03-31 08:53:00|45366664-c3c1-45b...|      click|  adId_02|  campaignId_02|\n",
            "|2016-04-02 19:05:00|d7576574-4bf6-42e...|  view|adId_09|campaignId_01|2016-04-02 19:06:00|d7576574-4bf6-42e...|      click|  adId_09|  campaignId_01|\n",
            "|2016-04-06 10:16:00|9d81a8fa-e106-457...|  view|adId_07|campaignId_03|2016-04-06 10:16:00|9d81a8fa-e106-457...|      click|  adId_07|  campaignId_03|\n",
            "|2016-04-26 19:25:00|43daf639-f604-4a6...|  view|adId_07|campaignId_01|2016-04-26 19:32:00|43daf639-f604-4a6...|      click|  adId_07|  campaignId_01|\n",
            "|2016-05-14 10:04:00|f996f157-53b0-4a1...|  view|adId_01|campaignId_03|2016-05-14 10:05:00|f996f157-53b0-4a1...|      click|  adId_01|  campaignId_03|\n",
            "|2016-05-24 10:38:00|8e323941-8bd5-451...|  view|adId_05|campaignId_03|2016-05-24 10:39:00|8e323941-8bd5-451...|      click|  adId_05|  campaignId_03|\n",
            "|2016-06-05 07:57:00|a3b91c94-9afd-438...|  view|adId_07|campaignId_02|2016-06-05 07:58:00|a3b91c94-9afd-438...|      click|  adId_07|  campaignId_02|\n",
            "+-------------------+--------------------+------+-------+-------------+-------------------+--------------------+-----------+---------+---------------+\n",
            "only showing top 20 rows\n",
            "\n"
          ]
        }
      ]
    },
    {
      "cell_type": "code",
      "source": [
        "df_results = df_pares.withColumn('tempo_eventos', col(\"timestamp_next\").cast(\"long\") - col('timestamp').cast(\"long\"))\n",
        "df_results.show()"
      ],
      "metadata": {
        "colab": {
          "base_uri": "https://localhost:8080/"
        },
        "id": "AMXdV1jtnBRl",
        "outputId": "4dc57cca-5ede-4a95-b05e-4f2450533d14"
      },
      "execution_count": 17,
      "outputs": [
        {
          "output_type": "stream",
          "name": "stdout",
          "text": [
            "+-------------------+--------------------+------+-------+-------------+-------------------+--------------------+-----------+---------+---------------+-------------+\n",
            "|          timestamp|             user_id|action|   adId|   campaignId|     timestamp_next|        user_id_next|action_next|adId_next|campaignId_next|tempo_eventos|\n",
            "+-------------------+--------------------+------+-------+-------------+-------------------+--------------------+-----------+---------+---------------+-------------+\n",
            "|2016-01-12 07:21:00|796ea1b7-7b9c-4e0...|  view|adId_02|campaignId_01|2016-01-12 07:32:00|796ea1b7-7b9c-4e0...|      click|  adId_02|  campaignId_01|          660|\n",
            "|2016-01-17 10:06:00|1d625585-afe1-44e...|  view|adId_04|campaignId_02|2016-01-17 10:06:00|1d625585-afe1-44e...|      click|  adId_04|  campaignId_02|            0|\n",
            "|2016-01-20 20:58:00|5b5c2595-2af7-44c...|  view|adId_06|campaignId_01|2016-01-20 20:58:00|5b5c2595-2af7-44c...|      click|  adId_06|  campaignId_01|            0|\n",
            "|2016-02-02 20:45:00|33a9fa72-3c64-4da...|  view|adId_03|campaignId_02|2016-02-02 20:46:00|33a9fa72-3c64-4da...|      click|  adId_03|  campaignId_02|           60|\n",
            "|2016-02-07 09:29:00|2885a1e9-8f4b-450...|  view|adId_05|campaignId_01|2016-02-07 09:29:00|2885a1e9-8f4b-450...|      click|  adId_05|  campaignId_01|            0|\n",
            "|2016-02-09 18:31:00|f821985e-26d7-493...|  view|adId_06|campaignId_02|2016-02-09 18:32:00|f821985e-26d7-493...|      click|  adId_06|  campaignId_02|           60|\n",
            "|2016-02-14 21:25:00|e3e6ab8c-499a-463...|  view|adId_01|campaignId_01|2016-02-14 21:25:00|e3e6ab8c-499a-463...|      click|  adId_01|  campaignId_01|            0|\n",
            "|2016-02-19 09:32:00|96f0242d-b5fb-47d...|  view|adId_09|campaignId_01|2016-02-19 09:32:00|96f0242d-b5fb-47d...|      click|  adId_09|  campaignId_01|            0|\n",
            "|2016-03-02 19:52:00|b929312a-4f8a-4d2...|  view|adId_04|campaignId_01|2016-03-02 19:54:00|b929312a-4f8a-4d2...|      click|  adId_04|  campaignId_01|          120|\n",
            "|2016-03-20 07:28:00|163b138f-9e1e-415...|  view|adId_08|campaignId_02|2016-03-20 07:37:00|163b138f-9e1e-415...|      click|  adId_08|  campaignId_02|          540|\n",
            "|2016-03-21 20:01:00|87a1fd00-9a73-4c3...|  view|adId_10|campaignId_01|2016-03-21 20:02:00|87a1fd00-9a73-4c3...|      click|  adId_10|  campaignId_01|           60|\n",
            "|2016-03-21 20:41:00|92a88ab4-613a-46f...|  view|adId_03|campaignId_02|2016-03-21 20:43:00|92a88ab4-613a-46f...|      click|  adId_03|  campaignId_02|          120|\n",
            "|2016-03-23 19:33:00|db6a068f-18ee-4fa...|  view|adId_01|campaignId_01|2016-03-23 19:35:00|db6a068f-18ee-4fa...|      click|  adId_01|  campaignId_01|          120|\n",
            "|2016-03-31 08:52:00|45366664-c3c1-45b...|  view|adId_02|campaignId_02|2016-03-31 08:53:00|45366664-c3c1-45b...|      click|  adId_02|  campaignId_02|           60|\n",
            "|2016-04-02 19:05:00|d7576574-4bf6-42e...|  view|adId_09|campaignId_01|2016-04-02 19:06:00|d7576574-4bf6-42e...|      click|  adId_09|  campaignId_01|           60|\n",
            "|2016-04-06 10:16:00|9d81a8fa-e106-457...|  view|adId_07|campaignId_03|2016-04-06 10:16:00|9d81a8fa-e106-457...|      click|  adId_07|  campaignId_03|            0|\n",
            "|2016-04-26 19:25:00|43daf639-f604-4a6...|  view|adId_07|campaignId_01|2016-04-26 19:32:00|43daf639-f604-4a6...|      click|  adId_07|  campaignId_01|          420|\n",
            "|2016-05-14 10:04:00|f996f157-53b0-4a1...|  view|adId_01|campaignId_03|2016-05-14 10:05:00|f996f157-53b0-4a1...|      click|  adId_01|  campaignId_03|           60|\n",
            "|2016-05-24 10:38:00|8e323941-8bd5-451...|  view|adId_05|campaignId_03|2016-05-24 10:39:00|8e323941-8bd5-451...|      click|  adId_05|  campaignId_03|           60|\n",
            "|2016-06-05 07:57:00|a3b91c94-9afd-438...|  view|adId_07|campaignId_02|2016-06-05 07:58:00|a3b91c94-9afd-438...|      click|  adId_07|  campaignId_02|           60|\n",
            "+-------------------+--------------------+------+-------+-------------+-------------------+--------------------+-----------+---------+---------------+-------------+\n",
            "only showing top 20 rows\n",
            "\n"
          ]
        }
      ]
    },
    {
      "cell_type": "code",
      "source": [
        "df_results.select('adId', 'campaignId', 'tempo_eventos')\\\n",
        "  .groupby('adId', 'campaignId')\\\n",
        "  .avg()\\\n",
        "  .orderBy(asc('avg(tempo_eventos)'))\\\n",
        "  .take(10)"
      ],
      "metadata": {
        "colab": {
          "base_uri": "https://localhost:8080/"
        },
        "id": "E4v6oLFcqEPl",
        "outputId": "f554d432-03cf-4f18-e51a-2adb5fe7d433"
      },
      "execution_count": 18,
      "outputs": [
        {
          "output_type": "execute_result",
          "data": {
            "text/plain": [
              "[Row(adId='adId_07', campaignId='campaignId_03', avg(tempo_eventos)=0.0),\n",
              " Row(adId='adId_04', campaignId='campaignId_02', avg(tempo_eventos)=0.0),\n",
              " Row(adId='adId_10', campaignId='campaignId_03', avg(tempo_eventos)=0.0),\n",
              " Row(adId='adId_05', campaignId='campaignId_01', avg(tempo_eventos)=0.0),\n",
              " Row(adId='adId_01', campaignId='campaignId_02', avg(tempo_eventos)=0.0),\n",
              " Row(adId='adId_02', campaignId='campaignId_02', avg(tempo_eventos)=30.0),\n",
              " Row(adId='adId_09', campaignId='campaignId_02', avg(tempo_eventos)=30.0),\n",
              " Row(adId='adId_09', campaignId='campaignId_01', avg(tempo_eventos)=45.0),\n",
              " Row(adId='adId_06', campaignId='campaignId_01', avg(tempo_eventos)=60.0),\n",
              " Row(adId='adId_01', campaignId='campaignId_03', avg(tempo_eventos)=60.0)]"
            ]
          },
          "metadata": {},
          "execution_count": 18
        }
      ]
    },
    {
      "cell_type": "code",
      "source": [
        "df_results.select('adId', 'campaignId', 'tempo_eventos')\\\n",
        "  .orderBy(asc('adId'), asc('campaignId'))\\\n",
        "  .show()"
      ],
      "metadata": {
        "colab": {
          "base_uri": "https://localhost:8080/"
        },
        "id": "NVvbFOPhJoc4",
        "outputId": "7ddf24ab-40ae-40eb-f188-d687c06db028"
      },
      "execution_count": 36,
      "outputs": [
        {
          "output_type": "stream",
          "name": "stdout",
          "text": [
            "+-------+-------------+-------------+\n",
            "|   adId|   campaignId|tempo_eventos|\n",
            "+-------+-------------+-------------+\n",
            "|adId_01|campaignId_01|          900|\n",
            "|adId_01|campaignId_01|           60|\n",
            "|adId_01|campaignId_01|            0|\n",
            "|adId_01|campaignId_01|          120|\n",
            "|adId_01|campaignId_02|            0|\n",
            "|adId_01|campaignId_03|           60|\n",
            "|adId_01|campaignId_03|           60|\n",
            "|adId_02|campaignId_01|          660|\n",
            "|adId_02|campaignId_02|           60|\n",
            "|adId_02|campaignId_02|            0|\n",
            "|adId_02|campaignId_03|           60|\n",
            "|adId_02|campaignId_03|            0|\n",
            "|adId_02|campaignId_03|          660|\n",
            "|adId_03|campaignId_02|           60|\n",
            "|adId_03|campaignId_02|          120|\n",
            "|adId_04|campaignId_01|           60|\n",
            "|adId_04|campaignId_01|          120|\n",
            "|adId_04|campaignId_02|            0|\n",
            "|adId_04|campaignId_02|            0|\n",
            "|adId_05|campaignId_01|            0|\n",
            "+-------+-------------+-------------+\n",
            "only showing top 20 rows\n",
            "\n"
          ]
        }
      ]
    }
  ],
  "metadata": {
    "kernelspec": {
      "display_name": "Python 3 (ipykernel)",
      "language": "python",
      "name": "python3"
    },
    "language_info": {
      "codemirror_mode": {
        "name": "ipython",
        "version": 3
      },
      "file_extension": ".py",
      "mimetype": "text/x-python",
      "name": "python",
      "nbconvert_exporter": "python",
      "pygments_lexer": "ipython3",
      "version": "3.10.6"
    },
    "colab": {
      "provenance": [],
      "include_colab_link": true
    }
  },
  "nbformat": 4,
  "nbformat_minor": 0
}