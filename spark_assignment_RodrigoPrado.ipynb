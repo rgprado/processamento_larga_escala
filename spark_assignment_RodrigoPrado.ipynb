{
  "cells": [
    {
      "cell_type": "markdown",
      "metadata": {
        "id": "view-in-github",
        "colab_type": "text"
      },
      "source": [
        "<a href=\"https://colab.research.google.com/github/rgprado/processamento_larga_escala/blob/main/spark_assignment_RodrigoPrado.ipynb\" target=\"_parent\"><img src=\"https://colab.research.google.com/assets/colab-badge.svg\" alt=\"Open In Colab\"/></a>"
      ]
    },
    {
      "cell_type": "markdown",
      "metadata": {
        "tags": [],
        "id": "_3RyvU5D0LeQ"
      },
      "source": [
        "## Sobre os dados\n",
        "\n",
        "O arquivo CSV contém eventos 'click' ou 'view' no tempo, de usuários em anúncios de determinadas campanhas.\n",
        "\n",
        "**Descrição das colunas:**  \n",
        "timestamp,user_id,action,adId,campaignId \n",
        "\n",
        "**Amostra:**  \n",
        "2016-09-21 22:11:00,7c74953c-66cc-48bd-9d02-a02bf039cf3f,click,adId_09,campaignId_01  \n",
        "2016-06-25 18:29:00,676a083e-2f8e-4ff2-9ec2-270f7f9d6033,view,adId_09,campaignId_02  \n",
        "2016-02-14 19:03:00,77158997-0dfa-48b7-9149-973dc151ef8d,click,adId_02,campaignId_02  \n",
        "2016-03-26 06:27:00,78aa2467-b502-413b-94e9-04ec8210bd13,click,adId_07,campaignId_03\n",
        "\n",
        "**Nome do arquivo CSV:**  \n",
        "data/ad_action.csv\n",
        "\n",
        "## Sobre as questões\n",
        "\n",
        "As questões devem ser respondidas usando alguma API da tecnologia Spark, exceto a API \"Pandas API on Spark\".\n",
        "\n",
        "Quando utilizar uma action do Spark tenha cuidado para evitar estouro de memória, sempre imaginado que vai executar o código com uma grande massa de dados.\n",
        "\n",
        "Mesmo que não consiga terminar alguma questão, favor enviar, porque parte do código pode valer alguma pontuação."
      ]
    },
    {
      "cell_type": "code",
      "source": [
        "!wget -q https://downloads.apache.org/spark/spark-3.0.1/spark-3.0.1-bin-hadoop2.7.tgz\n",
        "!tar xf spark-3.0.1-bin-hadoop2.7.tgz\n",
        "!pip install -q findspark\n",
        "!pip install pyspark"
      ],
      "metadata": {
        "colab": {
          "base_uri": "https://localhost:8080/"
        },
        "id": "1_NJ5FJi1cGX",
        "outputId": "6fd1e2e5-aea9-457c-9a86-d2dfcec2189b"
      },
      "execution_count": 1,
      "outputs": [
        {
          "output_type": "stream",
          "name": "stdout",
          "text": [
            "tar: spark-3.0.1-bin-hadoop2.7.tgz: Cannot open: No such file or directory\n",
            "tar: Error is not recoverable: exiting now\n",
            "Looking in indexes: https://pypi.org/simple, https://us-python.pkg.dev/colab-wheels/public/simple/\n",
            "Requirement already satisfied: pyspark in /usr/local/lib/python3.9/dist-packages (3.3.2)\n",
            "Requirement already satisfied: py4j==0.10.9.5 in /usr/local/lib/python3.9/dist-packages (from pyspark) (0.10.9.5)\n"
          ]
        }
      ]
    },
    {
      "cell_type": "code",
      "execution_count": 2,
      "metadata": {
        "id": "0UXOUJ6z0LeT"
      },
      "outputs": [],
      "source": [
        "import os\n",
        "\n",
        "os.environ['PYSPARK_SUBMIT_ARGS'] = '\\\n",
        "    --driver-memory 2G \\\n",
        "    --executor-memory 2G \\\n",
        "    pyspark-shell'"
      ]
    },
    {
      "cell_type": "code",
      "execution_count": 3,
      "metadata": {
        "id": "1-tr5W_a0LeU"
      },
      "outputs": [],
      "source": [
        "# Para quem usar Spark com Map-Reduce\n",
        "\n",
        "# conf = SparkConf().setMaster(\"local[*]\")\n",
        "# sc = SparkContext.getOrCreate(conf=conf)\n",
        "# data_sc = sc.textFile('ad_action.csv')\n",
        "# data_sc.take(5)"
      ]
    },
    {
      "cell_type": "code",
      "source": [
        "from pyspark import SparkConf, SparkContext\n",
        "from pyspark.sql import SparkSession\n",
        "from pyspark.sql.functions import col, desc, asc, lag, to_timestamp\n",
        "from pyspark.sql.window import Window\n",
        "from pyspark.sql import functions as F"
      ],
      "metadata": {
        "id": "8VrVMChmXRAC"
      },
      "execution_count": 4,
      "outputs": []
    },
    {
      "cell_type": "code",
      "execution_count": 5,
      "metadata": {
        "id": "4muLMDoq0LeV",
        "outputId": "61207971-8a1a-44cb-99ca-c5b3c027f394",
        "colab": {
          "base_uri": "https://localhost:8080/"
        }
      },
      "outputs": [
        {
          "output_type": "stream",
          "name": "stdout",
          "text": [
            "root\n",
            " |-- timestamp: timestamp (nullable = true)\n",
            " |-- user_id: string (nullable = true)\n",
            " |-- action: string (nullable = true)\n",
            " |-- adId: string (nullable = true)\n",
            " |-- campaignId: string (nullable = true)\n",
            "\n"
          ]
        }
      ],
      "source": [
        "# Para quem usar Spark SQL\n",
        "\n",
        "spark = SparkSession.builder\\\n",
        "    .master(\"local[*]\")\\\n",
        "    .getOrCreate()\n",
        "data_spark = spark.read.csv('ad_action.csv', header=False, inferSchema=True)\n",
        "data_spark = data_spark.withColumnRenamed('_c0', 'timestamp')\n",
        "data_spark = data_spark.withColumnRenamed('_c1', 'user_id')\n",
        "data_spark = data_spark.withColumnRenamed('_c2', 'action')\n",
        "data_spark = data_spark.withColumnRenamed('_c3', 'adId')\n",
        "data_spark = data_spark.withColumnRenamed('_c4', 'campaignId')\n",
        "data_spark = data_spark.withColumn('timestamp', to_timestamp('timestamp'))\n",
        "data_spark.printSchema()"
      ]
    },
    {
      "cell_type": "code",
      "source": [
        "SparkSession.getActiveSession()"
      ],
      "metadata": {
        "colab": {
          "base_uri": "https://localhost:8080/",
          "height": 222
        },
        "id": "GP_LXMAMl-mk",
        "outputId": "289392e7-22ce-4f40-dbbb-10037465e9cd"
      },
      "execution_count": 6,
      "outputs": [
        {
          "output_type": "execute_result",
          "data": {
            "text/plain": [
              "<pyspark.sql.session.SparkSession at 0x7faf05be9100>"
            ],
            "text/html": [
              "\n",
              "            <div>\n",
              "                <p><b>SparkSession - in-memory</b></p>\n",
              "                \n",
              "        <div>\n",
              "            <p><b>SparkContext</b></p>\n",
              "\n",
              "            <p><a href=\"http://5e41e584a489:4040\">Spark UI</a></p>\n",
              "\n",
              "            <dl>\n",
              "              <dt>Version</dt>\n",
              "                <dd><code>v3.3.2</code></dd>\n",
              "              <dt>Master</dt>\n",
              "                <dd><code>local[*]</code></dd>\n",
              "              <dt>AppName</dt>\n",
              "                <dd><code>pyspark-shell</code></dd>\n",
              "            </dl>\n",
              "        </div>\n",
              "        \n",
              "            </div>\n",
              "        "
            ]
          },
          "metadata": {},
          "execution_count": 6
        }
      ]
    },
    {
      "cell_type": "code",
      "execution_count": 7,
      "metadata": {
        "id": "PxTp8pMF0LeW",
        "outputId": "68e5b88e-969c-4c7c-dde2-8452ac8e9989",
        "colab": {
          "base_uri": "https://localhost:8080/"
        }
      },
      "outputs": [
        {
          "output_type": "stream",
          "name": "stdout",
          "text": [
            "+-------------------+--------------------+------+-------+-------------+\n",
            "|          timestamp|             user_id|action|   adId|   campaignId|\n",
            "+-------------------+--------------------+------+-------+-------------+\n",
            "|2016-09-21 22:11:00|7c74953c-66cc-48b...| click|adId_09|campaignId_01|\n",
            "|2016-06-25 18:29:00|676a083e-2f8e-4ff...|  view|adId_09|campaignId_02|\n",
            "|2016-02-14 19:03:00|77158997-0dfa-48b...| click|adId_02|campaignId_02|\n",
            "|2016-03-26 06:27:00|78aa2467-b502-413...| click|adId_07|campaignId_03|\n",
            "|2016-01-02 04:57:00|fef9a98c-d73e-48e...|  view|adId_02|campaignId_02|\n",
            "+-------------------+--------------------+------+-------+-------------+\n",
            "only showing top 5 rows\n",
            "\n"
          ]
        }
      ],
      "source": [
        "data_spark.show(5)"
      ]
    },
    {
      "cell_type": "code",
      "execution_count": 8,
      "metadata": {
        "id": "DwtytrLb0LeX"
      },
      "outputs": [],
      "source": [
        "# Descomente para desligar clusters\n",
        "\n",
        "#sc.stop()\n",
        "# spark.stop()"
      ]
    },
    {
      "cell_type": "markdown",
      "metadata": {
        "id": "qvxk64GR0LeY"
      },
      "source": [
        "## 1) Quais são as top 3 campanhas que geraram mais eventos? Ordene pela quantidade de eventos (2,5 pontos)"
      ]
    },
    {
      "cell_type": "code",
      "execution_count": 9,
      "metadata": {
        "id": "gFuPZetQ0LeY",
        "colab": {
          "base_uri": "https://localhost:8080/"
        },
        "outputId": "341476c4-c46b-4018-c3d6-a582221a1b07"
      },
      "outputs": [
        {
          "output_type": "stream",
          "name": "stdout",
          "text": [
            "Top 3 campanhas com mais enventos:\n",
            "campaignId_02\n",
            "campaignId_03\n",
            "campaignId_01\n",
            "CPU times: user 37.7 ms, sys: 4.78 ms, total: 42.5 ms\n",
            "Wall time: 4.72 s\n"
          ]
        }
      ],
      "source": [
        "%%time\n",
        "most_popular_cp = data_spark.groupby('campaignId')\\\n",
        "    .count()\\\n",
        "    .orderBy(desc('count'))\\\n",
        "    .take(3)\n",
        "\n",
        "print('Top 3 campanhas com mais enventos:')\n",
        "for i, b in enumerate(most_popular_cp):\n",
        "  print(most_popular_cp[i]['campaignId'])"
      ]
    },
    {
      "cell_type": "markdown",
      "metadata": {
        "id": "FfilyTal0LeZ"
      },
      "source": [
        "## 2) Qual campanha teve mais clicks? (2,5 pontos)"
      ]
    },
    {
      "cell_type": "code",
      "source": [
        "data_spark.groupBy('campaignId', 'action')\\\n",
        "    .count()\\\n",
        "    .orderBy(desc('count'))\\\n",
        "    .where(col(\"action\") == 'click')\\\n",
        "    .show()"
      ],
      "metadata": {
        "colab": {
          "base_uri": "https://localhost:8080/"
        },
        "id": "trCfwSc3Eyib",
        "outputId": "8a844ce1-f3a7-4308-a9c1-305554c90241"
      },
      "execution_count": 10,
      "outputs": [
        {
          "output_type": "stream",
          "name": "stdout",
          "text": [
            "+-------------+------+-----+\n",
            "|   campaignId|action|count|\n",
            "+-------------+------+-----+\n",
            "|campaignId_02| click|63983|\n",
            "|campaignId_03| click|60947|\n",
            "|campaignId_01| click|53375|\n",
            "+-------------+------+-----+\n",
            "\n"
          ]
        }
      ]
    },
    {
      "cell_type": "code",
      "source": [
        "most_click_campain = data_spark.groupBy('campaignId', 'action')\\\n",
        "    .count()\\\n",
        "    .orderBy(desc('count'))\\\n",
        "    .where(col(\"action\") == 'click')\\\n",
        "    .take(1)\n",
        "\n",
        "print('A campanha \"{}\" foi a mais clicada com {} clicks'.format(most_click_campain[0]['campaignId'], most_click_campain[0]['count']))"
      ],
      "metadata": {
        "colab": {
          "base_uri": "https://localhost:8080/"
        },
        "id": "2rx1XilNsADm",
        "outputId": "1072185c-6943-41da-eac3-2dfe2b7735bd"
      },
      "execution_count": 11,
      "outputs": [
        {
          "output_type": "stream",
          "name": "stdout",
          "text": [
            "A campanha \"campaignId_02\" foi a mais clicada com 63983 clicks\n"
          ]
        }
      ]
    },
    {
      "cell_type": "markdown",
      "metadata": {
        "id": "yrDwPflH0Leb"
      },
      "source": [
        "## 3) Dos 12 meses do ano, qual teve o maior total de eventos acumulado ao longo dos anos? (2,5 pontos)"
      ]
    },
    {
      "cell_type": "code",
      "source": [
        "from pyspark.sql.functions import *\n",
        "data_spark.select(date_format(col(\"timestamp\"),'MMMM').alias('month'), 'action')\\\n",
        "  .groupby('month')\\\n",
        "  .count()\\\n",
        "  .orderBy(desc('count'))\\\n",
        "  .show()"
      ],
      "metadata": {
        "colab": {
          "base_uri": "https://localhost:8080/"
        },
        "id": "smYPdbfsP3Xb",
        "outputId": "d3d47059-dd69-4f01-fbc8-f2046c2023de"
      },
      "execution_count": 12,
      "outputs": [
        {
          "output_type": "stream",
          "name": "stdout",
          "text": [
            "+---------+-----+\n",
            "|    month|count|\n",
            "+---------+-----+\n",
            "|  January|25800|\n",
            "|    March|21377|\n",
            "|  October|21363|\n",
            "|   August|21362|\n",
            "|      May|21224|\n",
            "|     July|21183|\n",
            "|     June|20657|\n",
            "| November|20646|\n",
            "|September|20627|\n",
            "|    April|20558|\n",
            "| December|20297|\n",
            "| February|19619|\n",
            "+---------+-----+\n",
            "\n"
          ]
        }
      ]
    },
    {
      "cell_type": "code",
      "source": [
        "most_event_month = data_spark.select(date_format(col(\"timestamp\"),'MMMM').alias('month'), 'action')\\\n",
        "  .groupby('month')\\\n",
        "  .count()\\\n",
        "  .orderBy(desc('count'))\\\n",
        "  .take(1)\n",
        "print('Mês que teve o maior total de eventos acumulado foi \"{}\" com o total de {} eventos.'.format(most_event_month[0]['month'], most_event_month[0]['count']))"
      ],
      "metadata": {
        "colab": {
          "base_uri": "https://localhost:8080/"
        },
        "id": "SDRPMqmjQ8LZ",
        "outputId": "2bdf9f28-7744-4615-b901-23d9465f2dc1"
      },
      "execution_count": 13,
      "outputs": [
        {
          "output_type": "stream",
          "name": "stdout",
          "text": [
            "Mês que teve o maior total de eventos acumulado foi \"January\" com o total de 25800 eventos.\n"
          ]
        }
      ]
    },
    {
      "cell_type": "markdown",
      "metadata": {
        "id": "xMNs8Tqe0Lec"
      },
      "source": [
        "## 4) Nas situações onde existe um evento de view seguido de um evento de click criados pelo mesmo usuário no mesmo anúncio e campanha, quais são os 5 pares de anúncio e campanha com menores médias de tempo entre os dois eventos (2,5 pontos)"
      ]
    },
    {
      "cell_type": "code",
      "source": [
        "# Fazendo a ordenação dos dados\n",
        "data_spark = data_spark.orderBy(asc(col(\"user_id\")), asc(col(\"adId\")), asc(col(\"campaignId\")), asc(col(\"timestamp\")))"
      ],
      "metadata": {
        "id": "MDbd8A63bCFn"
      },
      "execution_count": 14,
      "outputs": []
    },
    {
      "cell_type": "code",
      "source": [
        "data_spark.show()"
      ],
      "metadata": {
        "colab": {
          "base_uri": "https://localhost:8080/"
        },
        "id": "aJNFVvpj3U3k",
        "outputId": "3ccba519-6d15-4ca9-d9aa-2bcb692dea01"
      },
      "execution_count": 27,
      "outputs": [
        {
          "output_type": "stream",
          "name": "stdout",
          "text": [
            "+-------------------+--------------------+------+-------+-------------+-------------------+--------------------+-----------+---------+---------------+\n",
            "|          timestamp|             user_id|action|   adId|   campaignId|     timestamp_next|        user_id_next|action_next|adId_next|campaignId_next|\n",
            "+-------------------+--------------------+------+-------+-------------+-------------------+--------------------+-----------+---------+---------------+\n",
            "|2016-01-13 21:09:00|00023420-6ead-463...| click|adId_01|campaignId_01|2016-01-14 09:30:00|00023420-6ead-463...|      click|  adId_01|  campaignId_01|\n",
            "|2016-01-14 09:30:00|00023420-6ead-463...| click|adId_01|campaignId_01|2016-03-18 11:24:00|00023420-6ead-463...|      click|  adId_01|  campaignId_01|\n",
            "|2016-03-18 11:24:00|00023420-6ead-463...| click|adId_01|campaignId_01|2016-03-18 18:25:00|00023420-6ead-463...|      click|  adId_01|  campaignId_01|\n",
            "|2016-03-18 18:25:00|00023420-6ead-463...| click|adId_01|campaignId_01|2016-04-02 19:42:00|00023420-6ead-463...|      click|  adId_01|  campaignId_01|\n",
            "|2016-04-02 19:42:00|00023420-6ead-463...| click|adId_01|campaignId_01|2016-04-03 13:12:00|00023420-6ead-463...|       view|  adId_01|  campaignId_01|\n",
            "|2016-04-03 13:12:00|00023420-6ead-463...|  view|adId_01|campaignId_01|2016-04-03 20:50:00|00023420-6ead-463...|      click|  adId_01|  campaignId_01|\n",
            "|2016-04-03 20:50:00|00023420-6ead-463...| click|adId_01|campaignId_01|2016-04-11 09:04:00|00023420-6ead-463...|       view|  adId_01|  campaignId_01|\n",
            "|2016-04-11 09:04:00|00023420-6ead-463...|  view|adId_01|campaignId_01|2016-05-25 18:50:00|00023420-6ead-463...|       view|  adId_01|  campaignId_01|\n",
            "|2016-05-25 18:50:00|00023420-6ead-463...|  view|adId_01|campaignId_01|2016-05-26 20:45:00|00023420-6ead-463...|       view|  adId_01|  campaignId_01|\n",
            "|2016-05-26 20:45:00|00023420-6ead-463...|  view|adId_01|campaignId_01|2016-07-21 19:04:00|00023420-6ead-463...|       view|  adId_01|  campaignId_01|\n",
            "|2016-07-21 19:04:00|00023420-6ead-463...|  view|adId_01|campaignId_01|2016-09-02 19:26:00|00023420-6ead-463...|      click|  adId_01|  campaignId_01|\n",
            "|2016-09-02 19:26:00|00023420-6ead-463...| click|adId_01|campaignId_01|2016-09-02 19:34:00|00023420-6ead-463...|      click|  adId_01|  campaignId_01|\n",
            "|2016-09-02 19:34:00|00023420-6ead-463...| click|adId_01|campaignId_01|2016-10-25 09:23:00|00023420-6ead-463...|      click|  adId_01|  campaignId_01|\n",
            "|2016-10-25 09:23:00|00023420-6ead-463...| click|adId_01|campaignId_01|2016-12-01 19:36:00|00023420-6ead-463...|       view|  adId_01|  campaignId_01|\n",
            "|2016-12-01 19:36:00|00023420-6ead-463...|  view|adId_01|campaignId_01|2016-12-01 20:42:00|00023420-6ead-463...|      click|  adId_01|  campaignId_01|\n",
            "|2016-12-01 20:42:00|00023420-6ead-463...| click|adId_01|campaignId_01|2016-12-19 09:14:00|00023420-6ead-463...|      click|  adId_01|  campaignId_01|\n",
            "|2016-12-19 09:14:00|00023420-6ead-463...| click|adId_01|campaignId_01|2016-12-19 19:12:00|00023420-6ead-463...|      click|  adId_01|  campaignId_01|\n",
            "|2016-12-19 19:12:00|00023420-6ead-463...| click|adId_01|campaignId_01|2016-12-21 08:38:00|00023420-6ead-463...|      click|  adId_01|  campaignId_01|\n",
            "|2016-12-21 08:38:00|00023420-6ead-463...| click|adId_01|campaignId_01|2016-12-22 08:35:00|00023420-6ead-463...|      click|  adId_01|  campaignId_01|\n",
            "|2016-12-22 08:35:00|00023420-6ead-463...| click|adId_01|campaignId_01|2016-02-09 09:57:00|000f0200-0918-414...|       view|  adId_07|  campaignId_03|\n",
            "+-------------------+--------------------+------+-------+-------------+-------------------+--------------------+-----------+---------+---------------+\n",
            "only showing top 20 rows\n",
            "\n"
          ]
        }
      ]
    },
    {
      "cell_type": "code",
      "source": [
        "# Fazendo shift nas colunas para colocar o próximo evento na linha atual\n",
        "my_window = Window.partitionBy().orderBy('user_id')\n",
        "\n",
        "data_spark = data_spark.withColumn(\"timestamp_next\", F.lag(data_spark.timestamp, -1).over(my_window))\n",
        "data_spark = data_spark.withColumn(\"user_id_next\", F.lag(data_spark.user_id, -1).over(my_window))\n",
        "data_spark = data_spark.withColumn(\"action_next\", F.lag(data_spark.action, -1).over(my_window))\n",
        "data_spark = data_spark.withColumn(\"adId_next\", F.lag(data_spark.adId, -1).over(my_window))\n",
        "data_spark = data_spark.withColumn(\"campaignId_next\", F.lag(data_spark.campaignId, -1).over(my_window))"
      ],
      "metadata": {
        "id": "0PFM5pRq8wAV"
      },
      "execution_count": 17,
      "outputs": []
    },
    {
      "cell_type": "code",
      "source": [
        "data_spark.show()"
      ],
      "metadata": {
        "colab": {
          "base_uri": "https://localhost:8080/"
        },
        "id": "tqW1Vf1B9M1s",
        "outputId": "f51c09e8-15df-49a6-fd87-e0ea84a6b359"
      },
      "execution_count": 18,
      "outputs": [
        {
          "output_type": "stream",
          "name": "stdout",
          "text": [
            "+-------------------+--------------------+------+-------+-------------+-------------------+--------------------+-----------+---------+---------------+\n",
            "|          timestamp|             user_id|action|   adId|   campaignId|     timestamp_next|        user_id_next|action_next|adId_next|campaignId_next|\n",
            "+-------------------+--------------------+------+-------+-------------+-------------------+--------------------+-----------+---------+---------------+\n",
            "|2016-01-13 21:09:00|00023420-6ead-463...| click|adId_01|campaignId_01|2016-01-14 09:30:00|00023420-6ead-463...|      click|  adId_01|  campaignId_01|\n",
            "|2016-01-14 09:30:00|00023420-6ead-463...| click|adId_01|campaignId_01|2016-03-18 11:24:00|00023420-6ead-463...|      click|  adId_01|  campaignId_01|\n",
            "|2016-03-18 11:24:00|00023420-6ead-463...| click|adId_01|campaignId_01|2016-03-18 18:25:00|00023420-6ead-463...|      click|  adId_01|  campaignId_01|\n",
            "|2016-03-18 18:25:00|00023420-6ead-463...| click|adId_01|campaignId_01|2016-04-02 19:42:00|00023420-6ead-463...|      click|  adId_01|  campaignId_01|\n",
            "|2016-04-02 19:42:00|00023420-6ead-463...| click|adId_01|campaignId_01|2016-04-03 13:12:00|00023420-6ead-463...|       view|  adId_01|  campaignId_01|\n",
            "|2016-04-03 13:12:00|00023420-6ead-463...|  view|adId_01|campaignId_01|2016-04-03 20:50:00|00023420-6ead-463...|      click|  adId_01|  campaignId_01|\n",
            "|2016-04-03 20:50:00|00023420-6ead-463...| click|adId_01|campaignId_01|2016-04-11 09:04:00|00023420-6ead-463...|       view|  adId_01|  campaignId_01|\n",
            "|2016-04-11 09:04:00|00023420-6ead-463...|  view|adId_01|campaignId_01|2016-05-25 18:50:00|00023420-6ead-463...|       view|  adId_01|  campaignId_01|\n",
            "|2016-05-25 18:50:00|00023420-6ead-463...|  view|adId_01|campaignId_01|2016-05-26 20:45:00|00023420-6ead-463...|       view|  adId_01|  campaignId_01|\n",
            "|2016-05-26 20:45:00|00023420-6ead-463...|  view|adId_01|campaignId_01|2016-07-21 19:04:00|00023420-6ead-463...|       view|  adId_01|  campaignId_01|\n",
            "|2016-07-21 19:04:00|00023420-6ead-463...|  view|adId_01|campaignId_01|2016-09-02 19:26:00|00023420-6ead-463...|      click|  adId_01|  campaignId_01|\n",
            "|2016-09-02 19:26:00|00023420-6ead-463...| click|adId_01|campaignId_01|2016-09-02 19:34:00|00023420-6ead-463...|      click|  adId_01|  campaignId_01|\n",
            "|2016-09-02 19:34:00|00023420-6ead-463...| click|adId_01|campaignId_01|2016-10-25 09:23:00|00023420-6ead-463...|      click|  adId_01|  campaignId_01|\n",
            "|2016-10-25 09:23:00|00023420-6ead-463...| click|adId_01|campaignId_01|2016-12-01 19:36:00|00023420-6ead-463...|       view|  adId_01|  campaignId_01|\n",
            "|2016-12-01 19:36:00|00023420-6ead-463...|  view|adId_01|campaignId_01|2016-12-01 20:42:00|00023420-6ead-463...|      click|  adId_01|  campaignId_01|\n",
            "|2016-12-01 20:42:00|00023420-6ead-463...| click|adId_01|campaignId_01|2016-12-19 09:14:00|00023420-6ead-463...|      click|  adId_01|  campaignId_01|\n",
            "|2016-12-19 09:14:00|00023420-6ead-463...| click|adId_01|campaignId_01|2016-12-19 19:12:00|00023420-6ead-463...|      click|  adId_01|  campaignId_01|\n",
            "|2016-12-19 19:12:00|00023420-6ead-463...| click|adId_01|campaignId_01|2016-12-21 08:38:00|00023420-6ead-463...|      click|  adId_01|  campaignId_01|\n",
            "|2016-12-21 08:38:00|00023420-6ead-463...| click|adId_01|campaignId_01|2016-12-22 08:35:00|00023420-6ead-463...|      click|  adId_01|  campaignId_01|\n",
            "|2016-12-22 08:35:00|00023420-6ead-463...| click|adId_01|campaignId_01|2016-02-09 09:57:00|000f0200-0918-414...|       view|  adId_07|  campaignId_03|\n",
            "+-------------------+--------------------+------+-------+-------------+-------------------+--------------------+-----------+---------+---------------+\n",
            "only showing top 20 rows\n",
            "\n"
          ]
        }
      ]
    },
    {
      "cell_type": "code",
      "source": [
        "# Fazendo filtro das linhas que correspondem aos critérios solicitados\n",
        "# um evento de view seguido de um evento de click criados pelo mesmo usuário no mesmo anúncio e campanha\n",
        "df_pares = data_spark.filter(\n",
        "    (col('action') == 'view') & (col('action_next') == 'click') &\n",
        "    (col('user_id') == col('user_id_next')) &\n",
        "    (col('adId') == col('adId_next')) &\n",
        "    (col('campaignId') == col('campaignId_next'))\n",
        ")\n",
        "\n",
        "df_pares.printSchema()\n",
        "df_pares.show()"
      ],
      "metadata": {
        "colab": {
          "base_uri": "https://localhost:8080/"
        },
        "id": "2RXDW1-yjSnj",
        "outputId": "0656a187-cc54-40f6-fdd5-cb90e5d16d66"
      },
      "execution_count": 20,
      "outputs": [
        {
          "output_type": "stream",
          "name": "stdout",
          "text": [
            "root\n",
            " |-- timestamp: timestamp (nullable = true)\n",
            " |-- user_id: string (nullable = true)\n",
            " |-- action: string (nullable = true)\n",
            " |-- adId: string (nullable = true)\n",
            " |-- campaignId: string (nullable = true)\n",
            " |-- timestamp_next: timestamp (nullable = true)\n",
            " |-- user_id_next: string (nullable = true)\n",
            " |-- action_next: string (nullable = true)\n",
            " |-- adId_next: string (nullable = true)\n",
            " |-- campaignId_next: string (nullable = true)\n",
            "\n",
            "+-------------------+--------------------+------+-------+-------------+-------------------+--------------------+-----------+---------+---------------+\n",
            "|          timestamp|             user_id|action|   adId|   campaignId|     timestamp_next|        user_id_next|action_next|adId_next|campaignId_next|\n",
            "+-------------------+--------------------+------+-------+-------------+-------------------+--------------------+-----------+---------+---------------+\n",
            "|2016-04-03 13:12:00|00023420-6ead-463...|  view|adId_01|campaignId_01|2016-04-03 20:50:00|00023420-6ead-463...|      click|  adId_01|  campaignId_01|\n",
            "|2016-07-21 19:04:00|00023420-6ead-463...|  view|adId_01|campaignId_01|2016-09-02 19:26:00|00023420-6ead-463...|      click|  adId_01|  campaignId_01|\n",
            "|2016-12-01 19:36:00|00023420-6ead-463...|  view|adId_01|campaignId_01|2016-12-01 20:42:00|00023420-6ead-463...|      click|  adId_01|  campaignId_01|\n",
            "|2016-02-09 09:57:00|000f0200-0918-414...|  view|adId_07|campaignId_03|2016-04-01 10:16:00|000f0200-0918-414...|      click|  adId_07|  campaignId_03|\n",
            "|2016-09-20 21:14:00|000f0200-0918-414...|  view|adId_07|campaignId_03|2016-10-18 08:54:00|000f0200-0918-414...|      click|  adId_07|  campaignId_03|\n",
            "|2016-03-12 03:53:00|00130041-b283-415...|  view|adId_08|campaignId_02|2016-03-12 11:24:00|00130041-b283-415...|      click|  adId_08|  campaignId_02|\n",
            "|2016-07-11 21:05:00|00130041-b283-415...|  view|adId_08|campaignId_02|2016-07-12 06:51:00|00130041-b283-415...|      click|  adId_08|  campaignId_02|\n",
            "|2016-08-12 14:41:00|00130041-b283-415...|  view|adId_08|campaignId_02|2016-08-22 10:35:00|00130041-b283-415...|      click|  adId_08|  campaignId_02|\n",
            "|2016-09-26 18:03:00|00130041-b283-415...|  view|adId_08|campaignId_02|2016-09-28 00:33:00|00130041-b283-415...|      click|  adId_08|  campaignId_02|\n",
            "|2016-11-25 08:14:00|00130041-b283-415...|  view|adId_08|campaignId_02|2016-11-27 18:14:00|00130041-b283-415...|      click|  adId_08|  campaignId_02|\n",
            "|2016-12-20 21:33:00|00130041-b283-415...|  view|adId_08|campaignId_02|2016-12-21 03:52:00|00130041-b283-415...|      click|  adId_08|  campaignId_02|\n",
            "|2016-03-07 09:52:00|00317295-4aa4-46e...|  view|adId_05|campaignId_02|2016-03-07 11:00:00|00317295-4aa4-46e...|      click|  adId_05|  campaignId_02|\n",
            "|2016-03-08 10:31:00|00317295-4aa4-46e...|  view|adId_05|campaignId_02|2016-03-08 19:54:00|00317295-4aa4-46e...|      click|  adId_05|  campaignId_02|\n",
            "|2016-09-21 08:34:00|00317295-4aa4-46e...|  view|adId_05|campaignId_02|2016-09-21 09:38:00|00317295-4aa4-46e...|      click|  adId_05|  campaignId_02|\n",
            "|2016-09-24 08:32:00|00317295-4aa4-46e...|  view|adId_05|campaignId_02|2016-10-11 21:33:00|00317295-4aa4-46e...|      click|  adId_05|  campaignId_02|\n",
            "|2016-12-22 11:13:00|00317295-4aa4-46e...|  view|adId_05|campaignId_02|2016-12-22 18:44:00|00317295-4aa4-46e...|      click|  adId_05|  campaignId_02|\n",
            "|2016-03-11 20:24:00|0031aa2d-5988-402...|  view|adId_03|campaignId_03|2016-03-11 21:12:00|0031aa2d-5988-402...|      click|  adId_03|  campaignId_03|\n",
            "|2016-04-05 11:17:00|0031aa2d-5988-402...|  view|adId_03|campaignId_03|2016-04-06 09:51:00|0031aa2d-5988-402...|      click|  adId_03|  campaignId_03|\n",
            "|2016-04-10 19:20:00|0031aa2d-5988-402...|  view|adId_03|campaignId_03|2016-04-10 21:08:00|0031aa2d-5988-402...|      click|  adId_03|  campaignId_03|\n",
            "|2016-08-03 08:57:00|0031aa2d-5988-402...|  view|adId_03|campaignId_03|2016-08-14 20:43:00|0031aa2d-5988-402...|      click|  adId_03|  campaignId_03|\n",
            "+-------------------+--------------------+------+-------+-------------+-------------------+--------------------+-----------+---------+---------------+\n",
            "only showing top 20 rows\n",
            "\n"
          ]
        }
      ]
    },
    {
      "cell_type": "code",
      "source": [
        "df_pares.count()"
      ],
      "metadata": {
        "colab": {
          "base_uri": "https://localhost:8080/"
        },
        "id": "cIoJTx5FNvoA",
        "outputId": "7bf1c2ed-9ca9-4c20-ce66-d277060748d4"
      },
      "execution_count": 21,
      "outputs": [
        {
          "output_type": "execute_result",
          "data": {
            "text/plain": [
              "51386"
            ]
          },
          "metadata": {},
          "execution_count": 21
        }
      ]
    },
    {
      "cell_type": "code",
      "source": [
        "# Calculando a média entre os eventos, convertendo o tempo em unidade de dias\n",
        "df_results = df_pares.withColumn('tempo_eventos', round((col(\"timestamp_next\").cast(\"long\") - col('timestamp').cast(\"long\"))/(24*3600), 2))\n",
        "df_results.show()"
      ],
      "metadata": {
        "colab": {
          "base_uri": "https://localhost:8080/"
        },
        "id": "AMXdV1jtnBRl",
        "outputId": "3105740a-ebe1-440b-b17e-417819a7495c"
      },
      "execution_count": 23,
      "outputs": [
        {
          "output_type": "stream",
          "name": "stdout",
          "text": [
            "+-------------------+--------------------+------+-------+-------------+-------------------+--------------------+-----------+---------+---------------+-------------+\n",
            "|          timestamp|             user_id|action|   adId|   campaignId|     timestamp_next|        user_id_next|action_next|adId_next|campaignId_next|tempo_eventos|\n",
            "+-------------------+--------------------+------+-------+-------------+-------------------+--------------------+-----------+---------+---------------+-------------+\n",
            "|2016-04-03 13:12:00|00023420-6ead-463...|  view|adId_01|campaignId_01|2016-04-03 20:50:00|00023420-6ead-463...|      click|  adId_01|  campaignId_01|         0.32|\n",
            "|2016-07-21 19:04:00|00023420-6ead-463...|  view|adId_01|campaignId_01|2016-09-02 19:26:00|00023420-6ead-463...|      click|  adId_01|  campaignId_01|        43.02|\n",
            "|2016-12-01 19:36:00|00023420-6ead-463...|  view|adId_01|campaignId_01|2016-12-01 20:42:00|00023420-6ead-463...|      click|  adId_01|  campaignId_01|         0.05|\n",
            "|2016-02-09 09:57:00|000f0200-0918-414...|  view|adId_07|campaignId_03|2016-04-01 10:16:00|000f0200-0918-414...|      click|  adId_07|  campaignId_03|        52.01|\n",
            "|2016-09-20 21:14:00|000f0200-0918-414...|  view|adId_07|campaignId_03|2016-10-18 08:54:00|000f0200-0918-414...|      click|  adId_07|  campaignId_03|        27.49|\n",
            "|2016-03-12 03:53:00|00130041-b283-415...|  view|adId_08|campaignId_02|2016-03-12 11:24:00|00130041-b283-415...|      click|  adId_08|  campaignId_02|         0.31|\n",
            "|2016-07-11 21:05:00|00130041-b283-415...|  view|adId_08|campaignId_02|2016-07-12 06:51:00|00130041-b283-415...|      click|  adId_08|  campaignId_02|         0.41|\n",
            "|2016-08-12 14:41:00|00130041-b283-415...|  view|adId_08|campaignId_02|2016-08-22 10:35:00|00130041-b283-415...|      click|  adId_08|  campaignId_02|         9.83|\n",
            "|2016-09-26 18:03:00|00130041-b283-415...|  view|adId_08|campaignId_02|2016-09-28 00:33:00|00130041-b283-415...|      click|  adId_08|  campaignId_02|         1.27|\n",
            "|2016-11-25 08:14:00|00130041-b283-415...|  view|adId_08|campaignId_02|2016-11-27 18:14:00|00130041-b283-415...|      click|  adId_08|  campaignId_02|         2.42|\n",
            "|2016-12-20 21:33:00|00130041-b283-415...|  view|adId_08|campaignId_02|2016-12-21 03:52:00|00130041-b283-415...|      click|  adId_08|  campaignId_02|         0.26|\n",
            "|2016-03-07 09:52:00|00317295-4aa4-46e...|  view|adId_05|campaignId_02|2016-03-07 11:00:00|00317295-4aa4-46e...|      click|  adId_05|  campaignId_02|         0.05|\n",
            "|2016-03-08 10:31:00|00317295-4aa4-46e...|  view|adId_05|campaignId_02|2016-03-08 19:54:00|00317295-4aa4-46e...|      click|  adId_05|  campaignId_02|         0.39|\n",
            "|2016-09-21 08:34:00|00317295-4aa4-46e...|  view|adId_05|campaignId_02|2016-09-21 09:38:00|00317295-4aa4-46e...|      click|  adId_05|  campaignId_02|         0.04|\n",
            "|2016-09-24 08:32:00|00317295-4aa4-46e...|  view|adId_05|campaignId_02|2016-10-11 21:33:00|00317295-4aa4-46e...|      click|  adId_05|  campaignId_02|        17.54|\n",
            "|2016-12-22 11:13:00|00317295-4aa4-46e...|  view|adId_05|campaignId_02|2016-12-22 18:44:00|00317295-4aa4-46e...|      click|  adId_05|  campaignId_02|         0.31|\n",
            "|2016-03-11 20:24:00|0031aa2d-5988-402...|  view|adId_03|campaignId_03|2016-03-11 21:12:00|0031aa2d-5988-402...|      click|  adId_03|  campaignId_03|         0.03|\n",
            "|2016-04-05 11:17:00|0031aa2d-5988-402...|  view|adId_03|campaignId_03|2016-04-06 09:51:00|0031aa2d-5988-402...|      click|  adId_03|  campaignId_03|         0.94|\n",
            "|2016-04-10 19:20:00|0031aa2d-5988-402...|  view|adId_03|campaignId_03|2016-04-10 21:08:00|0031aa2d-5988-402...|      click|  adId_03|  campaignId_03|         0.08|\n",
            "|2016-08-03 08:57:00|0031aa2d-5988-402...|  view|adId_03|campaignId_03|2016-08-14 20:43:00|0031aa2d-5988-402...|      click|  adId_03|  campaignId_03|        11.49|\n",
            "+-------------------+--------------------+------+-------+-------------+-------------------+--------------------+-----------+---------+---------------+-------------+\n",
            "only showing top 20 rows\n",
            "\n"
          ]
        }
      ]
    },
    {
      "cell_type": "code",
      "source": [
        "print('Os 5 pares de anúncio e campanha com menores médias de tempo entre os dois eventos:')\n",
        "df_results.groupby('adId','campaignId') \\\n",
        "  .agg(round(mean('tempo_eventos'), 2).alias(\"média em dias\")) \\\n",
        "  .sort(asc(\"média em dias\")) \\\n",
        "  .show(5)"
      ],
      "metadata": {
        "colab": {
          "base_uri": "https://localhost:8080/"
        },
        "id": "dsmHKTV7xX8I",
        "outputId": "9241968d-0f87-4166-c57f-780838e8de94"
      },
      "execution_count": 24,
      "outputs": [
        {
          "output_type": "stream",
          "name": "stdout",
          "text": [
            "Os 5 pares de anúncio e campanha com menores médias de tempo entre os dois eventos:\n",
            "+-------+-------------+-------------+\n",
            "|   adId|   campaignId|média em dias|\n",
            "+-------+-------------+-------------+\n",
            "|adId_01|campaignId_02|        12.14|\n",
            "|adId_02|campaignId_02|        12.15|\n",
            "|adId_06|campaignId_02|        12.43|\n",
            "|adId_07|campaignId_02|        12.56|\n",
            "|adId_03|campaignId_02|        12.62|\n",
            "+-------+-------------+-------------+\n",
            "only showing top 5 rows\n",
            "\n"
          ]
        }
      ]
    }
  ],
  "metadata": {
    "kernelspec": {
      "display_name": "Python 3 (ipykernel)",
      "language": "python",
      "name": "python3"
    },
    "language_info": {
      "codemirror_mode": {
        "name": "ipython",
        "version": 3
      },
      "file_extension": ".py",
      "mimetype": "text/x-python",
      "name": "python",
      "nbconvert_exporter": "python",
      "pygments_lexer": "ipython3",
      "version": "3.10.6"
    },
    "colab": {
      "provenance": [],
      "include_colab_link": true
    }
  },
  "nbformat": 4,
  "nbformat_minor": 0
}